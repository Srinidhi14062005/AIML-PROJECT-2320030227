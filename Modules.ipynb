{
  "nbformat": 4,
  "nbformat_minor": 0,
  "metadata": {
    "colab": {
      "provenance": [],
      "authorship_tag": "ABX9TyNwbAobstUb00gDjgDSFgDo",
      "include_colab_link": true
    },
    "kernelspec": {
      "name": "python3",
      "display_name": "Python 3"
    },
    "language_info": {
      "name": "python"
    }
  },
  "cells": [
    {
      "cell_type": "markdown",
      "metadata": {
        "id": "view-in-github",
        "colab_type": "text"
      },
      "source": [
        "<a href=\"https://colab.research.google.com/github/Srinidhi14062005/AIML-PROJECT-2320030227/blob/main/Modules.ipynb\" target=\"_parent\"><img src=\"https://colab.research.google.com/assets/colab-badge.svg\" alt=\"Open In Colab\"/></a>"
      ]
    },
    {
      "cell_type": "code",
      "execution_count": 1,
      "metadata": {
        "colab": {
          "base_uri": "https://localhost:8080/"
        },
        "id": "wdewSi-Trv2I",
        "outputId": "38dcc949-7ab8-46d9-889d-af0ea9aa93be"
      },
      "outputs": [
        {
          "output_type": "stream",
          "name": "stdout",
          "text": [
            "Number on Dice:  5\n"
          ]
        }
      ],
      "source": [
        "import random\n",
        "\n",
        "def roll_dice():\n",
        "\n",
        "  roll = random.randint(1, 6)\n",
        "  return roll\n",
        "\n",
        "result = roll_dice()\n",
        "print(\"Number on Dice: \", result)\n"
      ]
    },
    {
      "cell_type": "code",
      "source": [
        "import random\n",
        "\n",
        "# Generate a random number between 1 and 10\n",
        "random_number = random.randint(1, 10)\n",
        "print(\"Random number between 1 and 10:\", random_number)\n",
        "\n",
        "# Generate a random float number between 0 and 1\n",
        "random_float = random.random()\n",
        "print(\"Random float number between 0 and 1:\", random_float)\n",
        "\n",
        "# Choose a random element from a list\n",
        "my_list = [\"apple\", \"banana\", \"cherry\"]\n",
        "random_choice = random.choice(my_list)\n",
        "print(\"Random choice from the list:\", random_choice)\n",
        "\n",
        "# Shuffle a list randomly\n",
        "my_list = [1, 2, 3, 4, 5]\n",
        "random.shuffle(my_list)\n",
        "print(\"Shuffled list:\", my_list)\n"
      ],
      "metadata": {
        "colab": {
          "base_uri": "https://localhost:8080/"
        },
        "id": "EailpWhur4-0",
        "outputId": "9ed3db6e-27bf-4110-a3c1-2830e35f0212"
      },
      "execution_count": 2,
      "outputs": [
        {
          "output_type": "stream",
          "name": "stdout",
          "text": [
            "Random number between 1 and 10: 4\n",
            "Random float number between 0 and 1: 0.5878686458188891\n",
            "Random choice from the list: apple\n",
            "Shuffled list: [5, 3, 2, 1, 4]\n"
          ]
        }
      ]
    },
    {
      "cell_type": "code",
      "source": [
        "import random\n",
        "number = random.randint(1,20)\n",
        "i=1\n",
        "while(i<=10):\n",
        "  print(number,'x',i,'=',number*i)\n",
        "  i=i+1"
      ],
      "metadata": {
        "colab": {
          "base_uri": "https://localhost:8080/"
        },
        "id": "AkpGfn2sr9MB",
        "outputId": "d47ea3f1-e06f-4028-ee90-1a774682360f"
      },
      "execution_count": 3,
      "outputs": [
        {
          "output_type": "stream",
          "name": "stdout",
          "text": [
            "7 x 1 = 7\n",
            "7 x 2 = 14\n",
            "7 x 3 = 21\n",
            "7 x 4 = 28\n",
            "7 x 5 = 35\n",
            "7 x 6 = 42\n",
            "7 x 7 = 49\n",
            "7 x 8 = 56\n",
            "7 x 9 = 63\n",
            "7 x 10 = 70\n"
          ]
        }
      ]
    },
    {
      "cell_type": "code",
      "source": [
        "import random\n",
        "\n",
        "def create_environment(size):\n",
        "    return {\n",
        "        'size': size,\n",
        "        'agent_position': [0, 0]\n",
        "    }\n",
        "\n",
        "def is_valid_move(environment, position):\n",
        "    size = environment['size']\n",
        "    return 0 <= position[0] < size and 0 <= position[1] < size\n",
        "\n",
        "def perceive(environment):\n",
        "    return environment['agent_position']\n",
        "\n",
        "def act(environment):\n",
        "    moves = [(-1, 0), (1, 0), (0, -1), (0, 1)]  # Up, Down, Left, Right\n",
        "    random_move = random.choice(moves)\n",
        "    new_position = [\n",
        "        environment['agent_position'][0] + random_move[0],\n",
        "        environment['agent_position'][1] + random_move[1]\n",
        "    ]\n",
        "\n",
        "    if is_valid_move(environment, new_position):\n",
        "        environment['agent_position'] = new_position\n",
        "        return f\"Moved to {environment['agent_position']}\"\n",
        "    else:\n",
        "        return \"Cannot move, stayed in place\"\n",
        "\n",
        "def main():\n",
        "    env_size = 5\n",
        "    num_steps = 10\n",
        "\n",
        "    environment = create_environment(env_size)\n",
        "\n",
        "    print(f\"Starting position: {perceive(environment)}\")\n",
        "\n",
        "    for step in range(num_steps):\n",
        "        print(f\"Step {step + 1}: {act(environment)}\")\n",
        "\n",
        "if __name__ == \"__main__\":\n",
        "    main()"
      ],
      "metadata": {
        "colab": {
          "base_uri": "https://localhost:8080/"
        },
        "id": "6TFFxusmsCZm",
        "outputId": "f6d97e95-c9db-4e34-8e91-c38679ec1296"
      },
      "execution_count": 4,
      "outputs": [
        {
          "output_type": "stream",
          "name": "stdout",
          "text": [
            "Starting position: [0, 0]\n",
            "Step 1: Moved to [0, 1]\n",
            "Step 2: Moved to [1, 1]\n",
            "Step 3: Moved to [1, 0]\n",
            "Step 4: Moved to [0, 0]\n",
            "Step 5: Moved to [1, 0]\n",
            "Step 6: Moved to [2, 0]\n",
            "Step 7: Cannot move, stayed in place\n",
            "Step 8: Moved to [2, 1]\n",
            "Step 9: Moved to [2, 0]\n",
            "Step 10: Moved to [1, 0]\n"
          ]
        }
      ]
    }
  ]
}